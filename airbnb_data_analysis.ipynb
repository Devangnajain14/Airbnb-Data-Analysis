{
 "cells": [
  {
   "cell_type": "code",
   "execution_count": 2,
   "id": "687802e8-536d-4c83-aece-42ba588c7fc2",
   "metadata": {},
   "outputs": [],
   "source": [
    "import pandas as pd\n",
    "import matplotlib.pyplot as plt\n",
    "import seaborn as sns"
   ]
  },
  {
   "cell_type": "code",
   "execution_count": 3,
   "id": "d4890e77-5a3c-4cde-b43f-03d9255e640d",
   "metadata": {
    "scrolled": true
   },
   "outputs": [
    {
     "data": {
      "text/html": [
       "<div>\n",
       "<style scoped>\n",
       "    .dataframe tbody tr th:only-of-type {\n",
       "        vertical-align: middle;\n",
       "    }\n",
       "\n",
       "    .dataframe tbody tr th {\n",
       "        vertical-align: top;\n",
       "    }\n",
       "\n",
       "    .dataframe thead th {\n",
       "        text-align: right;\n",
       "    }\n",
       "</style>\n",
       "<table border=\"1\" class=\"dataframe\">\n",
       "  <thead>\n",
       "    <tr style=\"text-align: right;\">\n",
       "      <th></th>\n",
       "      <th>id</th>\n",
       "      <th>name</th>\n",
       "      <th>host_id</th>\n",
       "      <th>host_name</th>\n",
       "      <th>neighbourhood_group</th>\n",
       "      <th>neighbourhood</th>\n",
       "      <th>latitude</th>\n",
       "      <th>longitude</th>\n",
       "      <th>room_type</th>\n",
       "      <th>price</th>\n",
       "      <th>minimum_nights</th>\n",
       "      <th>number_of_reviews</th>\n",
       "      <th>last_review</th>\n",
       "      <th>reviews_per_month</th>\n",
       "      <th>calculated_host_listings_count</th>\n",
       "      <th>availability_365</th>\n",
       "      <th>number_of_reviews_ltm</th>\n",
       "      <th>license</th>\n",
       "    </tr>\n",
       "  </thead>\n",
       "  <tbody>\n",
       "    <tr>\n",
       "      <th>0</th>\n",
       "      <td>2992450</td>\n",
       "      <td>Luxury 2 bedroom apartment</td>\n",
       "      <td>4621559</td>\n",
       "      <td>Kenneth</td>\n",
       "      <td>NaN</td>\n",
       "      <td>THIRD WARD</td>\n",
       "      <td>42.65789</td>\n",
       "      <td>-73.75370</td>\n",
       "      <td>Entire home/apt</td>\n",
       "      <td>70.0</td>\n",
       "      <td>28</td>\n",
       "      <td>9</td>\n",
       "      <td>2022-08-17</td>\n",
       "      <td>0.07</td>\n",
       "      <td>1</td>\n",
       "      <td>32</td>\n",
       "      <td>0</td>\n",
       "      <td>NaN</td>\n",
       "    </tr>\n",
       "    <tr>\n",
       "      <th>1</th>\n",
       "      <td>3820211</td>\n",
       "      <td>Restored Precinct in Center Sq. w/Parking</td>\n",
       "      <td>19648678</td>\n",
       "      <td>Terra</td>\n",
       "      <td>NaN</td>\n",
       "      <td>SIXTH WARD</td>\n",
       "      <td>42.65222</td>\n",
       "      <td>-73.76724</td>\n",
       "      <td>Entire home/apt</td>\n",
       "      <td>102.0</td>\n",
       "      <td>2</td>\n",
       "      <td>308</td>\n",
       "      <td>2025-03-29</td>\n",
       "      <td>2.36</td>\n",
       "      <td>4</td>\n",
       "      <td>334</td>\n",
       "      <td>7</td>\n",
       "      <td>NaN</td>\n",
       "    </tr>\n",
       "    <tr>\n",
       "      <th>2</th>\n",
       "      <td>5651579</td>\n",
       "      <td>Large studio apt  by Capital Center &amp; ESP@</td>\n",
       "      <td>29288920</td>\n",
       "      <td>Gregg</td>\n",
       "      <td>NaN</td>\n",
       "      <td>SECOND WARD</td>\n",
       "      <td>42.64615</td>\n",
       "      <td>-73.75966</td>\n",
       "      <td>Entire home/apt</td>\n",
       "      <td>75.0</td>\n",
       "      <td>2</td>\n",
       "      <td>371</td>\n",
       "      <td>2025-02-16</td>\n",
       "      <td>3.05</td>\n",
       "      <td>2</td>\n",
       "      <td>6</td>\n",
       "      <td>28</td>\n",
       "      <td>NaN</td>\n",
       "    </tr>\n",
       "    <tr>\n",
       "      <th>3</th>\n",
       "      <td>6623339</td>\n",
       "      <td>Center Sq. Loft in Converted Precinct w/ Parking</td>\n",
       "      <td>19648678</td>\n",
       "      <td>Terra</td>\n",
       "      <td>NaN</td>\n",
       "      <td>SIXTH WARD</td>\n",
       "      <td>42.65222</td>\n",
       "      <td>-73.76724</td>\n",
       "      <td>Entire home/apt</td>\n",
       "      <td>96.0</td>\n",
       "      <td>2</td>\n",
       "      <td>331</td>\n",
       "      <td>2025-02-09</td>\n",
       "      <td>2.74</td>\n",
       "      <td>4</td>\n",
       "      <td>305</td>\n",
       "      <td>16</td>\n",
       "      <td>NaN</td>\n",
       "    </tr>\n",
       "    <tr>\n",
       "      <th>4</th>\n",
       "      <td>9005989</td>\n",
       "      <td>Studio in The heart of Center SQ, in Albany NY</td>\n",
       "      <td>17766924</td>\n",
       "      <td>Sugey</td>\n",
       "      <td>NaN</td>\n",
       "      <td>SIXTH WARD</td>\n",
       "      <td>42.65559</td>\n",
       "      <td>-73.76506</td>\n",
       "      <td>Entire home/apt</td>\n",
       "      <td>88.0</td>\n",
       "      <td>1</td>\n",
       "      <td>617</td>\n",
       "      <td>2025-04-13</td>\n",
       "      <td>5.80</td>\n",
       "      <td>1</td>\n",
       "      <td>167</td>\n",
       "      <td>29</td>\n",
       "      <td>NaN</td>\n",
       "    </tr>\n",
       "  </tbody>\n",
       "</table>\n",
       "</div>"
      ],
      "text/plain": [
       "        id                                              name   host_id  \\\n",
       "0  2992450                        Luxury 2 bedroom apartment   4621559   \n",
       "1  3820211         Restored Precinct in Center Sq. w/Parking  19648678   \n",
       "2  5651579        Large studio apt  by Capital Center & ESP@  29288920   \n",
       "3  6623339  Center Sq. Loft in Converted Precinct w/ Parking  19648678   \n",
       "4  9005989    Studio in The heart of Center SQ, in Albany NY  17766924   \n",
       "\n",
       "  host_name  neighbourhood_group neighbourhood  latitude  longitude  \\\n",
       "0   Kenneth                  NaN    THIRD WARD  42.65789  -73.75370   \n",
       "1     Terra                  NaN    SIXTH WARD  42.65222  -73.76724   \n",
       "2     Gregg                  NaN   SECOND WARD  42.64615  -73.75966   \n",
       "3     Terra                  NaN    SIXTH WARD  42.65222  -73.76724   \n",
       "4     Sugey                  NaN    SIXTH WARD  42.65559  -73.76506   \n",
       "\n",
       "         room_type  price  minimum_nights  number_of_reviews last_review  \\\n",
       "0  Entire home/apt   70.0              28                  9  2022-08-17   \n",
       "1  Entire home/apt  102.0               2                308  2025-03-29   \n",
       "2  Entire home/apt   75.0               2                371  2025-02-16   \n",
       "3  Entire home/apt   96.0               2                331  2025-02-09   \n",
       "4  Entire home/apt   88.0               1                617  2025-04-13   \n",
       "\n",
       "   reviews_per_month  calculated_host_listings_count  availability_365  \\\n",
       "0               0.07                               1                32   \n",
       "1               2.36                               4               334   \n",
       "2               3.05                               2                 6   \n",
       "3               2.74                               4               305   \n",
       "4               5.80                               1               167   \n",
       "\n",
       "   number_of_reviews_ltm  license  \n",
       "0                      0      NaN  \n",
       "1                      7      NaN  \n",
       "2                     28      NaN  \n",
       "3                     16      NaN  \n",
       "4                     29      NaN  "
      ]
     },
     "execution_count": 3,
     "metadata": {},
     "output_type": "execute_result"
    }
   ],
   "source": [
    "df=pd.read_csv(r\"C:\\Users\\devan\\Downloads\\listings.csv\")\n",
    "df.head()"
   ]
  },
  {
   "cell_type": "code",
   "execution_count": 5,
   "id": "0da76a32-7687-4469-a002-69f737851f5b",
   "metadata": {
    "scrolled": true
   },
   "outputs": [
    {
     "data": {
      "text/plain": [
       "(449, 18)"
      ]
     },
     "execution_count": 5,
     "metadata": {},
     "output_type": "execute_result"
    }
   ],
   "source": [
    "df.shape"
   ]
  },
  {
   "cell_type": "raw",
   "id": "4d0c8ffa-a8bd-4978-8a90-563d9983d05e",
   "metadata": {},
   "source": [
    "df.info()"
   ]
  },
  {
   "cell_type": "code",
   "execution_count": 6,
   "id": "839da087-0325-456f-90c1-c444a410de57",
   "metadata": {},
   "outputs": [
    {
     "name": "stdout",
     "output_type": "stream",
     "text": [
      "<class 'pandas.core.frame.DataFrame'>\n",
      "RangeIndex: 449 entries, 0 to 448\n",
      "Data columns (total 18 columns):\n",
      " #   Column                          Non-Null Count  Dtype  \n",
      "---  ------                          --------------  -----  \n",
      " 0   id                              449 non-null    int64  \n",
      " 1   name                            449 non-null    object \n",
      " 2   host_id                         449 non-null    int64  \n",
      " 3   host_name                       449 non-null    object \n",
      " 4   neighbourhood_group             0 non-null      float64\n",
      " 5   neighbourhood                   449 non-null    object \n",
      " 6   latitude                        449 non-null    float64\n",
      " 7   longitude                       449 non-null    float64\n",
      " 8   room_type                       449 non-null    object \n",
      " 9   price                           413 non-null    float64\n",
      " 10  minimum_nights                  449 non-null    int64  \n",
      " 11  number_of_reviews               449 non-null    int64  \n",
      " 12  last_review                     382 non-null    object \n",
      " 13  reviews_per_month               382 non-null    float64\n",
      " 14  calculated_host_listings_count  449 non-null    int64  \n",
      " 15  availability_365                449 non-null    int64  \n",
      " 16  number_of_reviews_ltm           449 non-null    int64  \n",
      " 17  license                         0 non-null      float64\n",
      "dtypes: float64(6), int64(7), object(5)\n",
      "memory usage: 63.3+ KB\n"
     ]
    }
   ],
   "source": [
    "df.info()"
   ]
  },
  {
   "cell_type": "code",
   "execution_count": 7,
   "id": "7a9258d4-64da-4d4a-b03d-62bfd27db299",
   "metadata": {},
   "outputs": [],
   "source": [
    "missing=df.isnull().sum()"
   ]
  },
  {
   "cell_type": "code",
   "execution_count": 8,
   "id": "25f0a4d5-6185-4e2a-ad78-935ae8a2e1f5",
   "metadata": {},
   "outputs": [],
   "source": [
    "missing=missing[missing>0].sort_values(ascending=False)"
   ]
  },
  {
   "cell_type": "code",
   "execution_count": 9,
   "id": "4924f7c2-b9fb-4fb6-9bed-c7a520028d17",
   "metadata": {},
   "outputs": [
    {
     "data": {
      "text/plain": [
       "neighbourhood_group    449\n",
       "license                449\n",
       "last_review             67\n",
       "reviews_per_month       67\n",
       "price                   36\n",
       "dtype: int64"
      ]
     },
     "execution_count": 9,
     "metadata": {},
     "output_type": "execute_result"
    }
   ],
   "source": [
    "missing"
   ]
  },
  {
   "cell_type": "code",
   "execution_count": 10,
   "id": "baadea9b-0e33-4bcb-bf6c-329f8eb17b20",
   "metadata": {},
   "outputs": [
    {
     "data": {
      "text/plain": [
       "dtype('int64')"
      ]
     },
     "execution_count": 10,
     "metadata": {},
     "output_type": "execute_result"
    }
   ],
   "source": [
    "missing.dtypes"
   ]
  },
  {
   "cell_type": "code",
   "execution_count": 11,
   "id": "737105c6-61e2-49ca-989e-6a725a41c339",
   "metadata": {},
   "outputs": [
    {
     "data": {
      "text/plain": [
       "Index(['id', 'name', 'host_id', 'host_name', 'neighbourhood_group',\n",
       "       'neighbourhood', 'latitude', 'longitude', 'room_type', 'price',\n",
       "       'minimum_nights', 'number_of_reviews', 'last_review',\n",
       "       'reviews_per_month', 'calculated_host_listings_count',\n",
       "       'availability_365', 'number_of_reviews_ltm', 'license'],\n",
       "      dtype='object')"
      ]
     },
     "execution_count": 11,
     "metadata": {},
     "output_type": "execute_result"
    }
   ],
   "source": [
    "df.columns"
   ]
  },
  {
   "cell_type": "code",
   "execution_count": 12,
   "id": "106799d1-95fc-4708-883e-97110d9405ef",
   "metadata": {},
   "outputs": [],
   "source": [
    "df=df[['id','name', 'host_id', 'host_name', 'neighbourhood', 'latitude', 'longitude', 'room_type',\n",
    "       'price', 'minimum_nights', 'number_of_reviews',\n",
    "       'availability_365']]"
   ]
  },
  {
   "cell_type": "code",
   "execution_count": 13,
   "id": "3cc6b96d-d9cf-4957-bbcf-d3b51ca0f1b8",
   "metadata": {},
   "outputs": [],
   "source": [
    "df['price']=df['price'].replace('[\\$,]',' ',regex=True).astype(float)"
   ]
  },
  {
   "cell_type": "code",
   "execution_count": 14,
   "id": "f563c0c5-6520-41ed-bf53-f96d88a6a1ad",
   "metadata": {},
   "outputs": [
    {
     "data": {
      "text/plain": [
       "0       70.0\n",
       "1      102.0\n",
       "2       75.0\n",
       "3       96.0\n",
       "4       88.0\n",
       "       ...  \n",
       "444     36.0\n",
       "445     31.0\n",
       "446    129.0\n",
       "447     44.0\n",
       "448     80.0\n",
       "Name: price, Length: 449, dtype: float64"
      ]
     },
     "execution_count": 14,
     "metadata": {},
     "output_type": "execute_result"
    }
   ],
   "source": [
    "df['price']"
   ]
  },
  {
   "cell_type": "code",
   "execution_count": 15,
   "id": "5f01f23c-9595-4793-a2ab-b2c6118f9973",
   "metadata": {},
   "outputs": [],
   "source": [
    "df=df.dropna()"
   ]
  },
  {
   "cell_type": "code",
   "execution_count": 16,
   "id": "208edcfb-226f-4972-b8c5-dae567f8cac0",
   "metadata": {},
   "outputs": [],
   "source": [
    "df.reset_index(drop=True, inplace=True)"
   ]
  },
  {
   "cell_type": "code",
   "execution_count": 17,
   "id": "2282f862-fbc3-444e-adf6-9fb282b53e5c",
   "metadata": {},
   "outputs": [
    {
     "data": {
      "text/html": [
       "<div>\n",
       "<style scoped>\n",
       "    .dataframe tbody tr th:only-of-type {\n",
       "        vertical-align: middle;\n",
       "    }\n",
       "\n",
       "    .dataframe tbody tr th {\n",
       "        vertical-align: top;\n",
       "    }\n",
       "\n",
       "    .dataframe thead th {\n",
       "        text-align: right;\n",
       "    }\n",
       "</style>\n",
       "<table border=\"1\" class=\"dataframe\">\n",
       "  <thead>\n",
       "    <tr style=\"text-align: right;\">\n",
       "      <th></th>\n",
       "      <th>id</th>\n",
       "      <th>name</th>\n",
       "      <th>host_id</th>\n",
       "      <th>host_name</th>\n",
       "      <th>neighbourhood</th>\n",
       "      <th>latitude</th>\n",
       "      <th>longitude</th>\n",
       "      <th>room_type</th>\n",
       "      <th>price</th>\n",
       "      <th>minimum_nights</th>\n",
       "      <th>number_of_reviews</th>\n",
       "      <th>availability_365</th>\n",
       "    </tr>\n",
       "  </thead>\n",
       "  <tbody>\n",
       "    <tr>\n",
       "      <th>0</th>\n",
       "      <td>2992450</td>\n",
       "      <td>Luxury 2 bedroom apartment</td>\n",
       "      <td>4621559</td>\n",
       "      <td>Kenneth</td>\n",
       "      <td>THIRD WARD</td>\n",
       "      <td>42.65789</td>\n",
       "      <td>-73.75370</td>\n",
       "      <td>Entire home/apt</td>\n",
       "      <td>70.0</td>\n",
       "      <td>28</td>\n",
       "      <td>9</td>\n",
       "      <td>32</td>\n",
       "    </tr>\n",
       "    <tr>\n",
       "      <th>1</th>\n",
       "      <td>3820211</td>\n",
       "      <td>Restored Precinct in Center Sq. w/Parking</td>\n",
       "      <td>19648678</td>\n",
       "      <td>Terra</td>\n",
       "      <td>SIXTH WARD</td>\n",
       "      <td>42.65222</td>\n",
       "      <td>-73.76724</td>\n",
       "      <td>Entire home/apt</td>\n",
       "      <td>102.0</td>\n",
       "      <td>2</td>\n",
       "      <td>308</td>\n",
       "      <td>334</td>\n",
       "    </tr>\n",
       "  </tbody>\n",
       "</table>\n",
       "</div>"
      ],
      "text/plain": [
       "        id                                       name   host_id host_name  \\\n",
       "0  2992450                 Luxury 2 bedroom apartment   4621559   Kenneth   \n",
       "1  3820211  Restored Precinct in Center Sq. w/Parking  19648678     Terra   \n",
       "\n",
       "  neighbourhood  latitude  longitude        room_type  price  minimum_nights  \\\n",
       "0    THIRD WARD  42.65789  -73.75370  Entire home/apt   70.0              28   \n",
       "1    SIXTH WARD  42.65222  -73.76724  Entire home/apt  102.0               2   \n",
       "\n",
       "   number_of_reviews  availability_365  \n",
       "0                  9                32  \n",
       "1                308               334  "
      ]
     },
     "execution_count": 17,
     "metadata": {},
     "output_type": "execute_result"
    }
   ],
   "source": [
    "df.head(2)"
   ]
  },
  {
   "cell_type": "code",
   "execution_count": null,
   "id": "60a7292c-3d23-49a7-8b0c-34d55a050e5e",
   "metadata": {},
   "outputs": [],
   "source": [
    "#Room Type Distribution"
   ]
  },
  {
   "cell_type": "code",
   "execution_count": 18,
   "id": "f1281926-9c7d-429b-ab66-d051d2242975",
   "metadata": {},
   "outputs": [
    {
     "data": {
      "image/png": "[encoded data removed]",
      "text/plain": [
       "<Figure size 640x480 with 1 Axes>"
      ]
     },
     "metadata": {},
     "output_type": "display_data"
    }
   ],
   "source": [
    "df['room_type'].value_counts().plot(kind='bar', color='skyblue')\n",
    "plt.title('Room Type distribution')\n",
    "plt.xlabel('Room Type')\n",
    "plt.xticks(rotation=45)\n",
    "plt.ylabel('count')\n",
    "plt.show()"
   ]
  },
  {
   "cell_type": "code",
   "execution_count": 20,
   "id": "d98c4f40-6340-4bf8-99ad-081784ddd0ff",
   "metadata": {},
   "outputs": [
    {
     "data": {
      "text/plain": [
       "room_type\n",
       "Private room        63.60177\n",
       "Entire home/apt    133.17000\n",
       "Name: price, dtype: float64"
      ]
     },
     "execution_count": 20,
     "metadata": {},
     "output_type": "execute_result"
    }
   ],
   "source": [
    "#Average Price by Room\n",
    "df.groupby('room_type')['price'].mean().sort_values()\n"
   ]
  },
  {
   "cell_type": "code",
   "execution_count": 21,
   "id": "8f142154-8afb-42f3-a404-6378d774b935",
   "metadata": {},
   "outputs": [
    {
     "data": {
      "image/png": "[encoded data removed]",
      "text/plain": [
       "<Figure size 800x500 with 1 Axes>"
      ]
     },
     "metadata": {},
     "output_type": "display_data"
    }
   ],
   "source": [
    "plt.figure(figsize=(8,5))\n",
    "sns.barplot(data=df.groupby('room_type')['price'].mean().sort_values(),palette='Set2')\n",
    "plt.title('average Price by Room type')\n",
    "plt.ylabel('Average Price')\n",
    "plt.show()"
   ]
  },
  {
   "cell_type": "code",
   "execution_count": 22,
   "id": "f4cf63ea-4472-4df5-9b59-c8f7e42bb678",
   "metadata": {},
   "outputs": [
    {
     "data": {
      "text/plain": [
       "26      582.0\n",
       "130     882.0\n",
       "133    1050.0\n",
       "174     800.0\n",
       "243    1200.0\n",
       "Name: price, dtype: float64"
      ]
     },
     "execution_count": 22,
     "metadata": {},
     "output_type": "execute_result"
    }
   ],
   "source": [
    "#Price Distribution(Capped at $500)\n",
    "df_price=df[df['price']>500]['price']\n",
    "df_price"
   ]
  },
  {
   "cell_type": "code",
   "execution_count": 23,
   "id": "a0843221-c4c7-43ce-8b0c-4178e843002d",
   "metadata": {},
   "outputs": [
    {
     "data": {
      "image/png": "[encoded data removed]",
      "text/plain": [
       "<Figure size 640x480 with 1 Axes>"
      ]
     },
     "metadata": {},
     "output_type": "display_data"
    }
   ],
   "source": [
    "df_price.plot(kind='hist', bins=30, color='orange')\n",
    "plt.xlabel('Price Distribution')\n",
    "plt.ylabel('Frequency')\n",
    "plt.title('Price Distribution(Capped at $500)')\n",
    "plt.show()"
   ]
  },
  {
   "cell_type": "code",
   "execution_count": 24,
   "id": "0d0612b1-8f0d-4f31-9a8b-5db916c821c7",
   "metadata": {},
   "outputs": [
    {
     "data": {
      "text/plain": [
       "SIXTH WARD         86\n",
       "TENTH WARD         46\n",
       "SECOND WARD        45\n",
       "THIRTEENTH WARD    42\n",
       "THIRD WARD         35\n",
       "NINTH WARD         34\n",
       "FOURTEENTH WARD    25\n",
       "ELEVENTH WARD      20\n",
       "FIFTEENTH WARD     17\n",
       "SEVENTH WARD       17\n",
       "Name: neighbourhood, dtype: int64"
      ]
     },
     "execution_count": 24,
     "metadata": {},
     "output_type": "execute_result"
    }
   ],
   "source": [
    "df_neighbourhood = df['neighbourhood'].value_counts().head(10)\n",
    "df_neighbourhood"
   ]
  },
  {
   "cell_type": "code",
   "execution_count": 25,
   "id": "5f9e6fa6-53f0-4b82-8e60-86b82be29689",
   "metadata": {},
   "outputs": [
    {
     "data": {
      "image/png": "[encoded data removed]",
      "text/plain": [
       "<Figure size 640x480 with 1 Axes>"
      ]
     },
     "metadata": {},
     "output_type": "display_data"
    }
   ],
   "source": [
    "df_neighbourhood.plot(kind='bar',color='green')\n",
    "plt.title('top 10 neighbourhoods by listings')\n",
    "plt.ylabel('Number of Listings')\n",
    "plt.xticks(rotation=45)\n",
    "plt.show()"
   ]
  },
  {
   "cell_type": "code",
   "execution_count": 26,
   "id": "67b2f415-1478-4e37-b4a7-a6b11845ebf2",
   "metadata": {},
   "outputs": [
    {
     "data": {
      "image/png": "[encoded data removed]",
      "text/plain": [
       "<Figure size 640x480 with 1 Axes>"
      ]
     },
     "metadata": {},
     "output_type": "display_data"
    }
   ],
   "source": [
    "#abailability vs Price\n",
    "plt.scatter(df['availability_365'], df['price'],alpha=0.4,color='green')\n",
    "plt.xlabel('Availability(days/year)')\n",
    "plt.ylabel('Price($)')\n",
    "plt.title('Availability vs price')\n",
    "plt.show()"
   ]
  },
  {
   "cell_type": "code",
   "execution_count": 27,
   "id": "ed1ff190-a489-4107-bcd0-bedeecff59b3",
   "metadata": {},
   "outputs": [
    {
     "data": {
      "text/plain": [
       "0      28\n",
       "1       2\n",
       "2       2\n",
       "3       2\n",
       "4       1\n",
       "       ..\n",
       "408     2\n",
       "409     5\n",
       "410    28\n",
       "411    28\n",
       "412     3\n",
       "Name: minimum_nights, Length: 388, dtype: int64"
      ]
     },
     "execution_count": 27,
     "metadata": {},
     "output_type": "execute_result"
    }
   ],
   "source": [
    "#Minimum night distribution\n",
    "df_minimum_night=df[df['minimum_nights']<30]['minimum_nights']\n",
    "df_minimum_night"
   ]
  },
  {
   "cell_type": "code",
   "execution_count": 31,
   "id": "6817b0c8-4a8e-4a22-a8de-85dd33e75551",
   "metadata": {},
   "outputs": [
    {
     "data": {
      "image/png": "[encoded data removed]",
      "text/plain": [
       "<Figure size 640x480 with 1 Axes>"
      ]
     },
     "metadata": {},
     "output_type": "display_data"
    }
   ],
   "source": [
    "df_minimum_night.plot(kind='hist', bins=30, color='teal')\n",
    "plt.title('Minimum night distribution(Capped at 30 nights)')\n",
    "plt.xlabel('Minimum Nights')\n",
    "plt.ylabel('Frequency')\n",
    "plt.show()"
   ]
  },
  {
   "cell_type": "code",
   "execution_count": 33,
   "id": "1536333e-3917-48ff-9527-21c4d74a63f9",
   "metadata": {},
   "outputs": [
    {
     "data": {
      "text/plain": [
       "0       9\n",
       "9      61\n",
       "10     28\n",
       "12     53\n",
       "14     48\n",
       "       ..\n",
       "408     0\n",
       "409     0\n",
       "410     0\n",
       "411     0\n",
       "412     0\n",
       "Name: number_of_reviews, Length: 340, dtype: int64"
      ]
     },
     "execution_count": 33,
     "metadata": {},
     "output_type": "execute_result"
    }
   ],
   "source": [
    "#Number of Review distribution (Capped at 100)\n",
    "df_review=df[df['number_of_reviews']<100]['number_of_reviews']\n",
    "df_review"
   ]
  },
  {
   "cell_type": "code",
   "execution_count": 34,
   "id": "7493cce6-c89b-4612-b678-1f5e90df5729",
   "metadata": {
    "scrolled": true
   },
   "outputs": [
    {
     "data": {
      "image/png": "[encoded data removed]",
      "text/plain": [
       "<Figure size 800x500 with 1 Axes>"
      ]
     },
     "metadata": {},
     "output_type": "display_data"
    }
   ],
   "source": [
    "plt.figure(figsize=(8,5))\n",
    "sns.histplot(df_review, color='purple', bins=50)\n",
    "plt.title('Number of Reviews Distribution (Capped at 100)')\n",
    "plt.xlabel('Number of Review')\n",
    "plt.ylabel('Frequency')\n",
    "plt.show()"
   ]
  },
  {
   "cell_type": "code",
   "execution_count": 35,
   "id": "aa6c6316-2077-4400-b9f3-525d3465f0bb",
   "metadata": {},
   "outputs": [],
   "source": [
    "#Correlation heatmap"
   ]
  },
  {
   "cell_type": "code",
   "execution_count": 36,
   "id": "1e792603-0457-4188-8360-d7f2ed65ae57",
   "metadata": {},
   "outputs": [
    {
     "data": {
      "text/html": [
       "<div>\n",
       "<style scoped>\n",
       "    .dataframe tbody tr th:only-of-type {\n",
       "        vertical-align: middle;\n",
       "    }\n",
       "\n",
       "    .dataframe tbody tr th {\n",
       "        vertical-align: top;\n",
       "    }\n",
       "\n",
       "    .dataframe thead th {\n",
       "        text-align: right;\n",
       "    }\n",
       "</style>\n",
       "<table border=\"1\" class=\"dataframe\">\n",
       "  <thead>\n",
       "    <tr style=\"text-align: right;\">\n",
       "      <th></th>\n",
       "      <th>price</th>\n",
       "      <th>minimum_nights</th>\n",
       "      <th>number_of_reviews</th>\n",
       "      <th>availability_365</th>\n",
       "    </tr>\n",
       "  </thead>\n",
       "  <tbody>\n",
       "    <tr>\n",
       "      <th>price</th>\n",
       "      <td>1.000000</td>\n",
       "      <td>-0.143087</td>\n",
       "      <td>-0.068239</td>\n",
       "      <td>0.022760</td>\n",
       "    </tr>\n",
       "    <tr>\n",
       "      <th>minimum_nights</th>\n",
       "      <td>-0.143087</td>\n",
       "      <td>1.000000</td>\n",
       "      <td>-0.215462</td>\n",
       "      <td>0.069001</td>\n",
       "    </tr>\n",
       "    <tr>\n",
       "      <th>number_of_reviews</th>\n",
       "      <td>-0.068239</td>\n",
       "      <td>-0.215462</td>\n",
       "      <td>1.000000</td>\n",
       "      <td>-0.042318</td>\n",
       "    </tr>\n",
       "    <tr>\n",
       "      <th>availability_365</th>\n",
       "      <td>0.022760</td>\n",
       "      <td>0.069001</td>\n",
       "      <td>-0.042318</td>\n",
       "      <td>1.000000</td>\n",
       "    </tr>\n",
       "  </tbody>\n",
       "</table>\n",
       "</div>"
      ],
      "text/plain": [
       "                      price  minimum_nights  number_of_reviews  \\\n",
       "price              1.000000       -0.143087          -0.068239   \n",
       "minimum_nights    -0.143087        1.000000          -0.215462   \n",
       "number_of_reviews -0.068239       -0.215462           1.000000   \n",
       "availability_365   0.022760        0.069001          -0.042318   \n",
       "\n",
       "                   availability_365  \n",
       "price                      0.022760  \n",
       "minimum_nights             0.069001  \n",
       "number_of_reviews         -0.042318  \n",
       "availability_365           1.000000  "
      ]
     },
     "execution_count": 36,
     "metadata": {},
     "output_type": "execute_result"
    }
   ],
   "source": [
    "correlation = df[['price', 'minimum_nights', 'number_of_reviews','availability_365']].corr()\n",
    "correlation"
   ]
  },
  {
   "cell_type": "code",
   "execution_count": 37,
   "id": "994f86d6-bea3-431d-a482-76500157582e",
   "metadata": {},
   "outputs": [
    {
     "data": {
      "image/png": "[encoded data removed]",
      "text/plain": [
       "<Figure size 600x400 with 2 Axes>"
      ]
     },
     "metadata": {},
     "output_type": "display_data"
    }
   ],
   "source": [
    "plt.figure(figsize=(6,4))\n",
    "sns.heatmap(correlation, annot=True,cmap='coolwarm')\n",
    "plt.title('Correlation Heatmap')\n",
    "plt.xticks(rotation=45)\n",
    "plt.show()"
   ]
  },
  {
   "cell_type": "code",
   "execution_count": 39,
   "id": "e6fa88e8-f5e7-4806-9752-b605b3e4db13",
   "metadata": {},
   "outputs": [
    {
     "name": "stdout",
     "output_type": "stream",
     "text": [
      "Defaulting to user installation because normal site-packages is not writeableNote: you may need to restart the kernel to use updated packages.\n",
      "\n",
      "Requirement already satisfied: folium in c:\\users\\devan\\appdata\\roaming\\python\\python311\\site-packages (0.20.0)\n",
      "Requirement already satisfied: branca>=0.6.0 in c:\\users\\devan\\appdata\\roaming\\python\\python311\\site-packages (from folium) (0.8.1)\n",
      "Requirement already satisfied: jinja2>=2.9 in c:\\programdata\\anaconda3\\lib\\site-packages (from folium) (3.1.3)\n",
      "Requirement already satisfied: numpy in c:\\users\\devan\\appdata\\roaming\\python\\python311\\site-packages (from folium) (1.24.4)\n",
      "Requirement already satisfied: requests in c:\\programdata\\anaconda3\\lib\\site-packages (from folium) (2.31.0)\n",
      "Requirement already satisfied: xyzservices in c:\\programdata\\anaconda3\\lib\\site-packages (from folium) (2022.9.0)\n",
      "Requirement already satisfied: MarkupSafe>=2.0 in c:\\programdata\\anaconda3\\lib\\site-packages (from jinja2>=2.9->folium) (2.1.3)\n",
      "Requirement already satisfied: charset-normalizer<4,>=2 in c:\\programdata\\anaconda3\\lib\\site-packages (from requests->folium) (2.0.4)\n",
      "Requirement already satisfied: idna<4,>=2.5 in c:\\programdata\\anaconda3\\lib\\site-packages (from requests->folium) (3.4)\n",
      "Requirement already satisfied: urllib3<3,>=1.21.1 in c:\\users\\devan\\appdata\\roaming\\python\\python311\\site-packages (from requests->folium) (2.5.0)\n",
      "Requirement already satisfied: certifi>=2017.4.17 in c:\\users\\devan\\appdata\\roaming\\python\\python311\\site-packages (from requests->folium) (2025.8.3)\n"
     ]
    }
   ],
   "source": [
    "pip install folium"
   ]
  },
  {
   "cell_type": "markdown",
   "id": "60bbd1f7-a1fd-491f-93c4-01f91dca6f2c",
   "metadata": {},
   "source": []
  },
  {
   "cell_type": "code",
   "execution_count": 40,
   "id": "04f0bef9-9261-4f46-bf10-c9044db2ed12",
   "metadata": {},
   "outputs": [],
   "source": [
    "import folium"
   ]
  },
  {
   "cell_type": "code",
   "execution_count": 41,
   "id": "ccdffc9b-f630-48f0-b070-70ee693fccfc",
   "metadata": {},
   "outputs": [
    {
     "data": {
      "text/plain": [
       "[42.658458477660524, -73.77768179477538]"
      ]
     },
     "execution_count": 41,
     "metadata": {},
     "output_type": "execute_result"
    }
   ],
   "source": [
    "map_center=[df['latitude'].mean(), df['longitude'].mean()]\n",
    "map_center"
   ]
  },
  {
   "cell_type": "code",
   "execution_count": 42,
   "id": "ff2fc4b2-f86d-4fe8-9dbd-4e654c25ea57",
   "metadata": {},
   "outputs": [
    {
     "data": {
      "text/html": [
       "<div style=\"width:100%;\"><div style=\"position:relative;width:100%;height:0;padding-bottom:60%;\"><span style=\"color:#565656\">Make this Notebook Trusted to load map: File -> Trust Notebook</span><iframe srcdoc=\"&lt;!DOCTYPE html&gt;\n",
       "&lt;html&gt;\n",
       "&lt;head&gt;\n",
       "    \n",
       "    &lt;meta http-equiv=&quot;content-type&quot; content=&quot;text/html; charset=UTF-8&quot; /&gt;\n",
       "    &lt;script src=&quot;https://cdn.jsdelivr.net/npm/leaflet@1.9.3/dist/leaflet.js&quot;&gt;&lt;/script&gt;\n",
       "    &lt;script src=&quot;https://code.jquery.com/jquery-3.7.1.min.js&quot;&gt;&lt;/script&gt;\n",
       "    &lt;script src=&quot;https://cdn.jsdelivr.net/npm/bootstrap@5.2.2/dist/js/bootstrap.bundle.min.js&quot;&gt;&lt;/script&gt;\n",
       "    &lt;script src=&quot;https://cdnjs.cloudflare.com/ajax/libs/Leaflet.awesome-markers/2.0.2/leaflet.awesome-markers.js&quot;&gt;&lt;/script&gt;\n",
       "    &lt;link rel=&quot;stylesheet&quot; href=&quot;https://cdn.jsdelivr.net/npm/leaflet@1.9.3/dist/leaflet.css&quot;/&gt;\n",
       "    &lt;link rel=&quot;stylesheet&quot; href=&quot;https://cdn.jsdelivr.net/npm/bootstrap@5.2.2/dist/css/bootstrap.min.css&quot;/&gt;\n",
       "    &lt;link rel=&quot;stylesheet&quot; href=&quot;https://netdna.bootstrapcdn.com/bootstrap/3.0.0/css/bootstrap-glyphicons.css&quot;/&gt;\n",
       "    &lt;link rel=&quot;stylesheet&quot; href=&quot;https://cdn.jsdelivr.net/npm/@fortawesome/fontawesome-free@6.2.0/css/all.min.css&quot;/&gt;\n",
       "    &lt;link rel=&quot;stylesheet&quot; href=&quot;https://cdnjs.cloudflare.com/ajax/libs/Leaflet.awesome-markers/2.0.2/leaflet.awesome-markers.css&quot;/&gt;\n",
       "    &lt;link rel=&quot;stylesheet&quot; href=&quot;https://cdn.jsdelivr.net/gh/python-visualization/folium/folium/templates/leaflet.awesome.rotate.min.css&quot;/&gt;\n",
       "    \n",
       "            &lt;meta name=&quot;viewport&quot; content=&quot;width=device-width,\n",
       "                initial-scale=1.0, maximum-scale=1.0, user-scalable=no&quot; /&gt;\n",
       "            &lt;style&gt;\n",
       "                #map_6d66591ebf58f10c6441787f43e80d69 {\n",
       "                    position: relative;\n",
       "                    width: 100.0%;\n",
       "                    height: 100.0%;\n",
       "                    left: 0.0%;\n",
       "                    top: 0.0%;\n",
       "                }\n",
       "                .leaflet-container { font-size: 1rem; }\n",
       "            &lt;/style&gt;\n",
       "\n",
       "            &lt;style&gt;html, body {\n",
       "                width: 100%;\n",
       "                height: 100%;\n",
       "                margin: 0;\n",
       "                padding: 0;\n",
       "            }\n",
       "            &lt;/style&gt;\n",
       "\n",
       "            &lt;style&gt;#map {\n",
       "                position:absolute;\n",
       "                top:0;\n",
       "                bottom:0;\n",
       "                right:0;\n",
       "                left:0;\n",
       "                }\n",
       "            &lt;/style&gt;\n",
       "\n",
       "            &lt;script&gt;\n",
       "                L_NO_TOUCH = false;\n",
       "                L_DISABLE_3D = false;\n",
       "            &lt;/script&gt;\n",
       "\n",
       "        \n",
       "&lt;/head&gt;\n",
       "&lt;body&gt;\n",
       "    \n",
       "    \n",
       "            &lt;div class=&quot;folium-map&quot; id=&quot;map_6d66591ebf58f10c6441787f43e80d69&quot; &gt;&lt;/div&gt;\n",
       "        \n",
       "&lt;/body&gt;\n",
       "&lt;script&gt;\n",
       "    \n",
       "    \n",
       "            var map_6d66591ebf58f10c6441787f43e80d69 = L.map(\n",
       "                &quot;map_6d66591ebf58f10c6441787f43e80d69&quot;,\n",
       "                {\n",
       "                    center: [42.658458477660524, -73.77768179477538],\n",
       "                    crs: L.CRS.EPSG3857,\n",
       "                    ...{\n",
       "  &quot;zoom&quot;: 42,\n",
       "  &quot;zoomControl&quot;: true,\n",
       "  &quot;preferCanvas&quot;: false,\n",
       "}\n",
       "\n",
       "                }\n",
       "            );\n",
       "\n",
       "            \n",
       "\n",
       "        \n",
       "    \n",
       "            var tile_layer_42535e30a54b80d23b381512cdf96613 = L.tileLayer(\n",
       "                &quot;https://tile.openstreetmap.org/{z}/{x}/{y}.png&quot;,\n",
       "                {\n",
       "  &quot;minZoom&quot;: 0,\n",
       "  &quot;maxZoom&quot;: 19,\n",
       "  &quot;maxNativeZoom&quot;: 19,\n",
       "  &quot;noWrap&quot;: false,\n",
       "  &quot;attribution&quot;: &quot;\\u0026copy; \\u003ca href=\\&quot;https://www.openstreetmap.org/copyright\\&quot;\\u003eOpenStreetMap\\u003c/a\\u003e contributors&quot;,\n",
       "  &quot;subdomains&quot;: &quot;abc&quot;,\n",
       "  &quot;detectRetina&quot;: false,\n",
       "  &quot;tms&quot;: false,\n",
       "  &quot;opacity&quot;: 1,\n",
       "}\n",
       "\n",
       "            );\n",
       "        \n",
       "    \n",
       "            tile_layer_42535e30a54b80d23b381512cdf96613.addTo(map_6d66591ebf58f10c6441787f43e80d69);\n",
       "        \n",
       "&lt;/script&gt;\n",
       "&lt;/html&gt;\" style=\"position:absolute;width:100%;height:100%;left:0;top:0;border:none !important;\" allowfullscreen webkitallowfullscreen mozallowfullscreen></iframe></div></div>"
      ],
      "text/plain": [
       "<folium.folium.Map at 0x2631238d710>"
      ]
     },
     "execution_count": 42,
     "metadata": {},
     "output_type": "execute_result"
    }
   ],
   "source": [
    "m= folium.Map(location=map_center, zoom_start=42)\n",
    "m"
   ]
  },
  {
   "cell_type": "code",
   "execution_count": 43,
   "id": "ba853612-dfc6-4d25-8dd4-a68bea6849e1",
   "metadata": {},
   "outputs": [
    {
     "data": {
      "text/html": [
       "<div>\n",
       "<style scoped>\n",
       "    .dataframe tbody tr th:only-of-type {\n",
       "        vertical-align: middle;\n",
       "    }\n",
       "\n",
       "    .dataframe tbody tr th {\n",
       "        vertical-align: top;\n",
       "    }\n",
       "\n",
       "    .dataframe thead th {\n",
       "        text-align: right;\n",
       "    }\n",
       "</style>\n",
       "<table border=\"1\" class=\"dataframe\">\n",
       "  <thead>\n",
       "    <tr style=\"text-align: right;\">\n",
       "      <th></th>\n",
       "      <th>id</th>\n",
       "      <th>name</th>\n",
       "      <th>host_id</th>\n",
       "      <th>host_name</th>\n",
       "      <th>neighbourhood</th>\n",
       "      <th>latitude</th>\n",
       "      <th>longitude</th>\n",
       "      <th>room_type</th>\n",
       "      <th>price</th>\n",
       "      <th>minimum_nights</th>\n",
       "      <th>number_of_reviews</th>\n",
       "      <th>availability_365</th>\n",
       "    </tr>\n",
       "  </thead>\n",
       "  <tbody>\n",
       "    <tr>\n",
       "      <th>250</th>\n",
       "      <td>1020518500251473070</td>\n",
       "      <td>Downtown Studio</td>\n",
       "      <td>233515764</td>\n",
       "      <td>Etem</td>\n",
       "      <td>SECOND WARD</td>\n",
       "      <td>42.647140</td>\n",
       "      <td>-73.75466</td>\n",
       "      <td>Entire home/apt</td>\n",
       "      <td>64.0</td>\n",
       "      <td>1</td>\n",
       "      <td>135</td>\n",
       "      <td>60</td>\n",
       "    </tr>\n",
       "    <tr>\n",
       "      <th>298</th>\n",
       "      <td>1164651175585600815</td>\n",
       "      <td>*Private Entrance* Cozy Apt Bright + Modern W/D</td>\n",
       "      <td>47625981</td>\n",
       "      <td>Linda</td>\n",
       "      <td>SEVENTH WARD</td>\n",
       "      <td>42.647270</td>\n",
       "      <td>-73.76758</td>\n",
       "      <td>Entire home/apt</td>\n",
       "      <td>107.0</td>\n",
       "      <td>1</td>\n",
       "      <td>12</td>\n",
       "      <td>325</td>\n",
       "    </tr>\n",
       "    <tr>\n",
       "      <th>223</th>\n",
       "      <td>940012438497375577</td>\n",
       "      <td>Sunny King bed w private luxurious bath &amp; garden</td>\n",
       "      <td>172539578</td>\n",
       "      <td>David Yisrael</td>\n",
       "      <td>FIFTEENTH WARD</td>\n",
       "      <td>42.680011</td>\n",
       "      <td>-73.81706</td>\n",
       "      <td>Private room</td>\n",
       "      <td>53.0</td>\n",
       "      <td>3</td>\n",
       "      <td>6</td>\n",
       "      <td>84</td>\n",
       "    </tr>\n",
       "    <tr>\n",
       "      <th>162</th>\n",
       "      <td>757978037279611051</td>\n",
       "      <td>Charming location near universities &amp; hospital</td>\n",
       "      <td>232967878</td>\n",
       "      <td>Diana</td>\n",
       "      <td>THIRTEENTH WARD</td>\n",
       "      <td>42.672610</td>\n",
       "      <td>-73.79262</td>\n",
       "      <td>Entire home/apt</td>\n",
       "      <td>105.0</td>\n",
       "      <td>2</td>\n",
       "      <td>49</td>\n",
       "      <td>52</td>\n",
       "    </tr>\n",
       "    <tr>\n",
       "      <th>150</th>\n",
       "      <td>733964865705013296</td>\n",
       "      <td>Historic 1 bed/ 1 bath</td>\n",
       "      <td>502037254</td>\n",
       "      <td>Andrew</td>\n",
       "      <td>SIXTH WARD</td>\n",
       "      <td>42.650350</td>\n",
       "      <td>-73.76549</td>\n",
       "      <td>Entire home/apt</td>\n",
       "      <td>68.0</td>\n",
       "      <td>14</td>\n",
       "      <td>1</td>\n",
       "      <td>285</td>\n",
       "    </tr>\n",
       "  </tbody>\n",
       "</table>\n",
       "</div>"
      ],
      "text/plain": [
       "                      id                                              name  \\\n",
       "250  1020518500251473070                                   Downtown Studio   \n",
       "298  1164651175585600815   *Private Entrance* Cozy Apt Bright + Modern W/D   \n",
       "223   940012438497375577  Sunny King bed w private luxurious bath & garden   \n",
       "162   757978037279611051    Charming location near universities & hospital   \n",
       "150   733964865705013296                            Historic 1 bed/ 1 bath   \n",
       "\n",
       "       host_id      host_name    neighbourhood   latitude  longitude  \\\n",
       "250  233515764           Etem      SECOND WARD  42.647140  -73.75466   \n",
       "298   47625981          Linda     SEVENTH WARD  42.647270  -73.76758   \n",
       "223  172539578  David Yisrael   FIFTEENTH WARD  42.680011  -73.81706   \n",
       "162  232967878          Diana  THIRTEENTH WARD  42.672610  -73.79262   \n",
       "150  502037254         Andrew       SIXTH WARD  42.650350  -73.76549   \n",
       "\n",
       "           room_type  price  minimum_nights  number_of_reviews  \\\n",
       "250  Entire home/apt   64.0               1                135   \n",
       "298  Entire home/apt  107.0               1                 12   \n",
       "223     Private room   53.0               3                  6   \n",
       "162  Entire home/apt  105.0               2                 49   \n",
       "150  Entire home/apt   68.0              14                  1   \n",
       "\n",
       "     availability_365  \n",
       "250                60  \n",
       "298               325  \n",
       "223                84  \n",
       "162                52  \n",
       "150               285  "
      ]
     },
     "execution_count": 43,
     "metadata": {},
     "output_type": "execute_result"
    }
   ],
   "source": [
    "filtered_df=df[df['price']<3300].sample(min(300, len(df)))\n",
    "filtered_df.head()"
   ]
  },
  {
   "cell_type": "code",
   "execution_count": 50,
   "id": "186de3aa-5596-4be7-9c28-7944ed3dfabe",
   "metadata": {},
   "outputs": [
    {
     "ename": "SyntaxError",
     "evalue": "invalid syntax (738751934.py, line 1)",
     "output_type": "error",
     "traceback": [
      "\u001b[1;36m  Cell \u001b[1;32mIn[50], line 1\u001b[1;36m\u001b[0m\n\u001b[1;33m    for_, row in filtered_df.iterrows():\u001b[0m\n\u001b[1;37m                                       ^\u001b[0m\n\u001b[1;31mSyntaxError\u001b[0m\u001b[1;31m:\u001b[0m invalid syntax\n"
     ]
    }
   ],
   "source": [
    "for_, row in filtered_df.iterrows():\n",
    "    folium.CircleMarker(\n",
    "        location =[row['latitude'], row['longitude']],\n",
    "        radius=3,\n",
    "        color='blue',\n",
    "        fill=True,\n",
    "        fill_opacity=0.5,\n",
    "        popup=f\"${row['price']}-{row['room_type']}({row['neighbourhood']})\"\n",
    "    ).add_to(m)"
   ]
  },
  {
   "cell_type": "code",
   "execution_count": 51,
   "id": "fd1a9c79-6776-47c6-a694-6d1ea94589a8",
   "metadata": {},
   "outputs": [
    {
     "data": {
      "text/html": [
       "<div style=\"width:100%;\"><div style=\"position:relative;width:100%;height:0;padding-bottom:60%;\"><span style=\"color:#565656\">Make this Notebook Trusted to load map: File -> Trust Notebook</span><iframe srcdoc=\"&lt;!DOCTYPE html&gt;\n",
       "&lt;html&gt;\n",
       "&lt;head&gt;\n",
       "    \n",
       "    &lt;meta http-equiv=&quot;content-type&quot; content=&quot;text/html; charset=UTF-8&quot; /&gt;\n",
       "    &lt;script src=&quot;https://cdn.jsdelivr.net/npm/leaflet@1.9.3/dist/leaflet.js&quot;&gt;&lt;/script&gt;\n",
       "    &lt;script src=&quot;https://code.jquery.com/jquery-3.7.1.min.js&quot;&gt;&lt;/script&gt;\n",
       "    &lt;script src=&quot;https://cdn.jsdelivr.net/npm/bootstrap@5.2.2/dist/js/bootstrap.bundle.min.js&quot;&gt;&lt;/script&gt;\n",
       "    &lt;script src=&quot;https://cdnjs.cloudflare.com/ajax/libs/Leaflet.awesome-markers/2.0.2/leaflet.awesome-markers.js&quot;&gt;&lt;/script&gt;\n",
       "    &lt;link rel=&quot;stylesheet&quot; href=&quot;https://cdn.jsdelivr.net/npm/leaflet@1.9.3/dist/leaflet.css&quot;/&gt;\n",
       "    &lt;link rel=&quot;stylesheet&quot; href=&quot;https://cdn.jsdelivr.net/npm/bootstrap@5.2.2/dist/css/bootstrap.min.css&quot;/&gt;\n",
       "    &lt;link rel=&quot;stylesheet&quot; href=&quot;https://netdna.bootstrapcdn.com/bootstrap/3.0.0/css/bootstrap-glyphicons.css&quot;/&gt;\n",
       "    &lt;link rel=&quot;stylesheet&quot; href=&quot;https://cdn.jsdelivr.net/npm/@fortawesome/fontawesome-free@6.2.0/css/all.min.css&quot;/&gt;\n",
       "    &lt;link rel=&quot;stylesheet&quot; href=&quot;https://cdnjs.cloudflare.com/ajax/libs/Leaflet.awesome-markers/2.0.2/leaflet.awesome-markers.css&quot;/&gt;\n",
       "    &lt;link rel=&quot;stylesheet&quot; href=&quot;https://cdn.jsdelivr.net/gh/python-visualization/folium/folium/templates/leaflet.awesome.rotate.min.css&quot;/&gt;\n",
       "    \n",
       "            &lt;meta name=&quot;viewport&quot; content=&quot;width=device-width,\n",
       "                initial-scale=1.0, maximum-scale=1.0, user-scalable=no&quot; /&gt;\n",
       "            &lt;style&gt;\n",
       "                #map_6d66591ebf58f10c6441787f43e80d69 {\n",
       "                    position: relative;\n",
       "                    width: 100.0%;\n",
       "                    height: 100.0%;\n",
       "                    left: 0.0%;\n",
       "                    top: 0.0%;\n",
       "                }\n",
       "                .leaflet-container { font-size: 1rem; }\n",
       "            &lt;/style&gt;\n",
       "\n",
       "            &lt;style&gt;html, body {\n",
       "                width: 100%;\n",
       "                height: 100%;\n",
       "                margin: 0;\n",
       "                padding: 0;\n",
       "            }\n",
       "            &lt;/style&gt;\n",
       "\n",
       "            &lt;style&gt;#map {\n",
       "                position:absolute;\n",
       "                top:0;\n",
       "                bottom:0;\n",
       "                right:0;\n",
       "                left:0;\n",
       "                }\n",
       "            &lt;/style&gt;\n",
       "\n",
       "            &lt;script&gt;\n",
       "                L_NO_TOUCH = false;\n",
       "                L_DISABLE_3D = false;\n",
       "            &lt;/script&gt;\n",
       "\n",
       "        \n",
       "&lt;/head&gt;\n",
       "&lt;body&gt;\n",
       "    \n",
       "    \n",
       "            &lt;div class=&quot;folium-map&quot; id=&quot;map_6d66591ebf58f10c6441787f43e80d69&quot; &gt;&lt;/div&gt;\n",
       "        \n",
       "&lt;/body&gt;\n",
       "&lt;script&gt;\n",
       "    \n",
       "    \n",
       "            var map_6d66591ebf58f10c6441787f43e80d69 = L.map(\n",
       "                &quot;map_6d66591ebf58f10c6441787f43e80d69&quot;,\n",
       "                {\n",
       "                    center: [42.658458477660524, -73.77768179477538],\n",
       "                    crs: L.CRS.EPSG3857,\n",
       "                    ...{\n",
       "  &quot;zoom&quot;: 42,\n",
       "  &quot;zoomControl&quot;: true,\n",
       "  &quot;preferCanvas&quot;: false,\n",
       "}\n",
       "\n",
       "                }\n",
       "            );\n",
       "\n",
       "            \n",
       "\n",
       "        \n",
       "    \n",
       "            var tile_layer_42535e30a54b80d23b381512cdf96613 = L.tileLayer(\n",
       "                &quot;https://tile.openstreetmap.org/{z}/{x}/{y}.png&quot;,\n",
       "                {\n",
       "  &quot;minZoom&quot;: 0,\n",
       "  &quot;maxZoom&quot;: 19,\n",
       "  &quot;maxNativeZoom&quot;: 19,\n",
       "  &quot;noWrap&quot;: false,\n",
       "  &quot;attribution&quot;: &quot;\\u0026copy; \\u003ca href=\\&quot;https://www.openstreetmap.org/copyright\\&quot;\\u003eOpenStreetMap\\u003c/a\\u003e contributors&quot;,\n",
       "  &quot;subdomains&quot;: &quot;abc&quot;,\n",
       "  &quot;detectRetina&quot;: false,\n",
       "  &quot;tms&quot;: false,\n",
       "  &quot;opacity&quot;: 1,\n",
       "}\n",
       "\n",
       "            );\n",
       "        \n",
       "    \n",
       "            tile_layer_42535e30a54b80d23b381512cdf96613.addTo(map_6d66591ebf58f10c6441787f43e80d69);\n",
       "        \n",
       "    \n",
       "            tile_layer_42535e30a54b80d23b381512cdf96613.addTo(map_6d66591ebf58f10c6441787f43e80d69);\n",
       "        \n",
       "&lt;/script&gt;\n",
       "&lt;/html&gt;\" style=\"position:absolute;width:100%;height:100%;left:0;top:0;border:none !important;\" allowfullscreen webkitallowfullscreen mozallowfullscreen></iframe></div></div>"
      ],
      "text/plain": [
       "<folium.folium.Map at 0x2631238d710>"
      ]
     },
     "execution_count": 51,
     "metadata": {},
     "output_type": "execute_result"
    }
   ],
   "source": [
    "m"
   ]
  },
  {
   "cell_type": "code",
   "execution_count": 53,
   "id": "94f71257-e332-4174-b33e-5c26f8182eee",
   "metadata": {},
   "outputs": [],
   "source": [
    "df.to_csv(\"C:\\Users\\devan\\Downloads\\cleaned_airbnb_data.csv\", index=False)"
   ]
  },
  {
   "cell_type": "code",
   "execution_count": 54,
   "id": "3853f37f-542b-499f-9e18-dcd5be1c04dd",
   "metadata": {},
   "outputs": [
    {
     "data": {
      "text/html": [
       "<div>\n",
       "<style scoped>\n",
       "    .dataframe tbody tr th:only-of-type {\n",
       "        vertical-align: middle;\n",
       "    }\n",
       "\n",
       "    .dataframe tbody tr th {\n",
       "        vertical-align: top;\n",
       "    }\n",
       "\n",
       "    .dataframe thead th {\n",
       "        text-align: right;\n",
       "    }\n",
       "</style>\n",
       "<table border=\"1\" class=\"dataframe\">\n",
       "  <thead>\n",
       "    <tr style=\"text-align: right;\">\n",
       "      <th></th>\n",
       "      <th>id</th>\n",
       "      <th>name</th>\n",
       "      <th>host_id</th>\n",
       "      <th>host_name</th>\n",
       "      <th>neighbourhood</th>\n",
       "      <th>latitude</th>\n",
       "      <th>longitude</th>\n",
       "      <th>room_type</th>\n",
       "      <th>price</th>\n",
       "      <th>minimum_nights</th>\n",
       "      <th>number_of_reviews</th>\n",
       "      <th>availability_365</th>\n",
       "    </tr>\n",
       "  </thead>\n",
       "  <tbody>\n",
       "    <tr>\n",
       "      <th>0</th>\n",
       "      <td>2992450</td>\n",
       "      <td>Luxury 2 bedroom apartment</td>\n",
       "      <td>4621559</td>\n",
       "      <td>Kenneth</td>\n",
       "      <td>THIRD WARD</td>\n",
       "      <td>42.65789</td>\n",
       "      <td>-73.75370</td>\n",
       "      <td>Entire home/apt</td>\n",
       "      <td>70.0</td>\n",
       "      <td>28</td>\n",
       "      <td>9</td>\n",
       "      <td>32</td>\n",
       "    </tr>\n",
       "    <tr>\n",
       "      <th>1</th>\n",
       "      <td>3820211</td>\n",
       "      <td>Restored Precinct in Center Sq. w/Parking</td>\n",
       "      <td>19648678</td>\n",
       "      <td>Terra</td>\n",
       "      <td>SIXTH WARD</td>\n",
       "      <td>42.65222</td>\n",
       "      <td>-73.76724</td>\n",
       "      <td>Entire home/apt</td>\n",
       "      <td>102.0</td>\n",
       "      <td>2</td>\n",
       "      <td>308</td>\n",
       "      <td>334</td>\n",
       "    </tr>\n",
       "    <tr>\n",
       "      <th>2</th>\n",
       "      <td>5651579</td>\n",
       "      <td>Large studio apt  by Capital Center &amp; ESP@</td>\n",
       "      <td>29288920</td>\n",
       "      <td>Gregg</td>\n",
       "      <td>SECOND WARD</td>\n",
       "      <td>42.64615</td>\n",
       "      <td>-73.75966</td>\n",
       "      <td>Entire home/apt</td>\n",
       "      <td>75.0</td>\n",
       "      <td>2</td>\n",
       "      <td>371</td>\n",
       "      <td>6</td>\n",
       "    </tr>\n",
       "    <tr>\n",
       "      <th>3</th>\n",
       "      <td>6623339</td>\n",
       "      <td>Center Sq. Loft in Converted Precinct w/ Parking</td>\n",
       "      <td>19648678</td>\n",
       "      <td>Terra</td>\n",
       "      <td>SIXTH WARD</td>\n",
       "      <td>42.65222</td>\n",
       "      <td>-73.76724</td>\n",
       "      <td>Entire home/apt</td>\n",
       "      <td>96.0</td>\n",
       "      <td>2</td>\n",
       "      <td>331</td>\n",
       "      <td>305</td>\n",
       "    </tr>\n",
       "    <tr>\n",
       "      <th>4</th>\n",
       "      <td>9005989</td>\n",
       "      <td>Studio in The heart of Center SQ, in Albany NY</td>\n",
       "      <td>17766924</td>\n",
       "      <td>Sugey</td>\n",
       "      <td>SIXTH WARD</td>\n",
       "      <td>42.65559</td>\n",
       "      <td>-73.76506</td>\n",
       "      <td>Entire home/apt</td>\n",
       "      <td>88.0</td>\n",
       "      <td>1</td>\n",
       "      <td>617</td>\n",
       "      <td>167</td>\n",
       "    </tr>\n",
       "  </tbody>\n",
       "</table>\n",
       "</div>"
      ],
      "text/plain": [
       "        id                                              name   host_id  \\\n",
       "0  2992450                        Luxury 2 bedroom apartment   4621559   \n",
       "1  3820211         Restored Precinct in Center Sq. w/Parking  19648678   \n",
       "2  5651579        Large studio apt  by Capital Center & ESP@  29288920   \n",
       "3  6623339  Center Sq. Loft in Converted Precinct w/ Parking  19648678   \n",
       "4  9005989    Studio in The heart of Center SQ, in Albany NY  17766924   \n",
       "\n",
       "  host_name neighbourhood  latitude  longitude        room_type  price  \\\n",
       "0   Kenneth    THIRD WARD  42.65789  -73.75370  Entire home/apt   70.0   \n",
       "1     Terra    SIXTH WARD  42.65222  -73.76724  Entire home/apt  102.0   \n",
       "2     Gregg   SECOND WARD  42.64615  -73.75966  Entire home/apt   75.0   \n",
       "3     Terra    SIXTH WARD  42.65222  -73.76724  Entire home/apt   96.0   \n",
       "4     Sugey    SIXTH WARD  42.65559  -73.76506  Entire home/apt   88.0   \n",
       "\n",
       "   minimum_nights  number_of_reviews  availability_365  \n",
       "0              28                  9                32  \n",
       "1               2                308               334  \n",
       "2               2                371                 6  \n",
       "3               2                331               305  \n",
       "4               1                617               167  "
      ]
     },
     "execution_count": 54,
     "metadata": {},
     "output_type": "execute_result"
    }
   ],
   "source": [
    "pd.read_csv(r\"C:\\Users\\devan\\Downloads\\cleaned_airbnb_data.csv\").head()"
   ]
  },
  {
   "cell_type": "code",
   "execution_count": null,
   "id": "53827fcc-1503-4186-a537-5710503b782a",
   "metadata": {},
   "outputs": [],
   "source": []
  }
 ],
 "metadata": {
  "kernelspec": {
   "display_name": "Python 3 (ipykernel)",
   "language": "python",
   "name": "python3"
  },
  "language_info": {
   "codemirror_mode": {
    "name": "ipython",
    "version": 3
   },
   "file_extension": ".py",
   "mimetype": "text/x-python",
   "name": "python",
   "nbconvert_exporter": "python",
   "pygments_lexer": "ipython3",
   "version": "3.11.7"
  }
 },
 "nbformat": 4,
 "nbformat_minor": 5
}
